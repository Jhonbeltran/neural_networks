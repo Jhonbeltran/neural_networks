{
 "cells": [
  {
   "cell_type": "code",
   "execution_count": 2,
   "metadata": {},
   "outputs": [
    {
     "name": "stdout",
     "output_type": "stream",
     "text": [
      "[0 0]: -0.1618974184292284 -> 0\n",
      "[0 1]: 0.14360492966262522 -> 1\n",
      "[1 0]: 0.6304542870452627 -> 1\n",
      "[1 1]: 0.9359566351371164 -> 1\n"
     ]
    }
   ],
   "source": [
    "from random import choice\n",
    "from numpy import array, dot, random\n",
    "\n",
    "unit_step = lambda x: 0 if x < 0 else 1\n",
    "\n",
    "training_data = [\n",
    "    (array([0,0,1]), 0), \n",
    "    (array([0,1,1]), 1), \n",
    "    (array([1,0,1]), 1), \n",
    "    (array([1,1,1]), 1), \n",
    "] \n",
    "\n",
    "w = random.rand(3) \n",
    "errors = [] \n",
    "eta = 0.2 \n",
    "n = 100 \n",
    "\n",
    "for i in range(n): \n",
    "    x, expected = choice(training_data) \n",
    "    result = dot(w, x) \n",
    "    error = expected - unit_step(result) \n",
    "    errors.append(error) \n",
    "    w += eta * error * x \n",
    "    \n",
    "for x, _ in training_data:\n",
    "    result = dot(x, w) \n",
    "    print(\"{}: {} -> {}\".format(x[:2], result, unit_step(result)))"
   ]
  },
  {
   "cell_type": "code",
   "execution_count": null,
   "metadata": {},
   "outputs": [],
   "source": []
  }
 ],
 "metadata": {
  "kernelspec": {
   "display_name": "Python 3",
   "language": "python",
   "name": "python3"
  },
  "language_info": {
   "codemirror_mode": {
    "name": "ipython",
    "version": 3
   },
   "file_extension": ".py",
   "mimetype": "text/x-python",
   "name": "python",
   "nbconvert_exporter": "python",
   "pygments_lexer": "ipython3",
   "version": "3.6.3"
  }
 },
 "nbformat": 4,
 "nbformat_minor": 2
}
